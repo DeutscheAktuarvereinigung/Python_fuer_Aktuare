{
 "cells": [
  {
   "cell_type": "markdown",
   "metadata": {},
   "source": [
    "# Python für Aktuare Teil 1\n",
    "\n",
    "## Agenda\n",
    "Innerhalb dieses Notebooks behandeln wir:\n",
    "- Definition und Aufruf von Funktionen\n",
    "- Parameter und Rückgabewerte\n",
    "- Einführung in Lambda-Funktionen\n",
    "- Import und Verwendung von Modulen\n",
    "- Speicherverwaltung von Python\n"
   ]
  },
  {
   "cell_type": "markdown",
   "metadata": {},
   "source": [
    "## Funktionen in Python\n",
    "\n",
    "Eine Funktion ist ein blockweise organisierter Abschnitt von Code, der eine bestimmte Aufgabe ausführt. Funktionen helfen dabei, den Code zu modularisieren, wiederverwendbar zu machen und die Übersichtlichkeit zu verbessern. Sie ermöglichen es, komplexe Programme in kleinere, leichter zu wartende und wiederverwendbare Teile zu zerlegen.\n",
    "\n",
    "Durch die Verwendung von Funktionen kann man Redundanzen im Code vermeiden und den Entwicklungsprozess effizienter gestalten. Anstatt denselben Code mehrmals zu schreiben, definiert man eine Funktion und ruft sie bei Bedarf auf.\n"
   ]
  },
  {
   "cell_type": "code",
   "execution_count": null,
   "metadata": {},
   "outputs": [],
   "source": [
    "# einfache Funktion die gar nichts macht.\n",
    "def foo():\n",
    "    pass"
   ]
  },
  {
   "cell_type": "code",
   "execution_count": null,
   "metadata": {},
   "outputs": [],
   "source": [
    "# Code den mal nur einmal schreiben, aber öfters ausführen will\n",
    "\n",
    "# Definition der Funktion\n",
    "def greet():\n",
    "    print(\"Hallo, willkommen zum Python-Kurs!\")\n",
    "\n",
    "# Aufruf der Funktion\n",
    "greet()\n",
    "greet()\n",
    "greet()\n"
   ]
  },
  {
   "cell_type": "markdown",
   "metadata": {},
   "source": [
    "### Übergabeparameter und Rückgabewert\n",
    "Spannend werden Funktionen erst, wenn wir Ihnen etwas übergeben, mit dem sie etwas tun sollen und dann den Rückgabewert `return` weiterverarbeiten."
   ]
  },
  {
   "cell_type": "code",
   "execution_count": 4,
   "metadata": {},
   "outputs": [],
   "source": [
    "# einfache Funktion mit Rückgabewert\n",
    "def addition(a, b):\n",
    "    return a + b"
   ]
  },
  {
   "cell_type": "code",
   "execution_count": null,
   "metadata": {},
   "outputs": [],
   "source": [
    "addition(1,1)\n",
    "\n",
    "# Achtung keine Typangabe beim Übergabewert. Probieren Sie auch mal addition(\"Kirsche\", \"Banane\")"
   ]
  },
  {
   "cell_type": "code",
   "execution_count": null,
   "metadata": {},
   "outputs": [],
   "source": [
    "import math\n",
    "\n",
    "def quadratic_roots(a, b, c):\n",
    "    disc = b**2-4*a*c\n",
    "    if disc < 0:\n",
    "        return None\n",
    "    else:\n",
    "        return (-b+math.sqrt(disc))/(2*a), (-b-math.sqrt(disc))/(2*a)"
   ]
  },
  {
   "cell_type": "code",
   "execution_count": null,
   "metadata": {},
   "outputs": [],
   "source": [
    "quadratic_roots(1, -5, 6) # eq = (x-3)(x-2) = x^2 -5x + 6"
   ]
  },
  {
   "cell_type": "code",
   "execution_count": null,
   "metadata": {},
   "outputs": [],
   "source": [
    "quadratic_roots(a=1, b=-5, c=6)"
   ]
  },
  {
   "cell_type": "code",
   "execution_count": null,
   "metadata": {},
   "outputs": [],
   "source": [
    "quadratic_roots(c=6, a=1, b=-5)"
   ]
  },
  {
   "cell_type": "code",
   "execution_count": null,
   "metadata": {},
   "outputs": [],
   "source": [
    "def create_character(name, race, hitpoints, ability):\n",
    "    print('Name:', name)\n",
    "    print('Race:', race)\n",
    "    print('Hitpoints:', hitpoints)\n",
    "    print('Ability:', ability)"
   ]
  },
  {
   "cell_type": "code",
   "execution_count": null,
   "metadata": {},
   "outputs": [],
   "source": [
    "create_character('Legolas', 'Elf', 100, 'Archery')"
   ]
  },
  {
   "cell_type": "markdown",
   "metadata": {},
   "source": [
    "Standardwerte für Übergabeparameter"
   ]
  },
  {
   "cell_type": "code",
   "execution_count": null,
   "metadata": {},
   "outputs": [],
   "source": [
    "def create_character(name, race='Human', hitpoints=100, ability=None):\n",
    "    print('Name:', name)\n",
    "    print('Race:', race)\n",
    "    print('Hitpoints:', hitpoints)\n",
    "    if ability:\n",
    "        print('Ability:', ability)"
   ]
  },
  {
   "cell_type": "code",
   "execution_count": null,
   "metadata": {},
   "outputs": [],
   "source": [
    "create_character('Jonas')"
   ]
  },
  {
   "cell_type": "code",
   "execution_count": null,
   "metadata": {},
   "outputs": [],
   "source": [
    "def create_character(name, race='Human', hitpoints=100, abilities=()):\n",
    "    print('Name:', name)\n",
    "    print('Race:', race)\n",
    "    print('Hitpoints:', hitpoints)\n",
    "    if abilities:\n",
    "        print('Abilities:')\n",
    "        for ability in abilities:\n",
    "            print('  -', ability)"
   ]
  },
  {
   "cell_type": "code",
   "execution_count": null,
   "metadata": {},
   "outputs": [],
   "source": [
    "create_character('Gimli', race='Dwarf')"
   ]
  },
  {
   "cell_type": "code",
   "execution_count": null,
   "metadata": {},
   "outputs": [],
   "source": [
    "create_character('Gandalf', hitpoints=1000)"
   ]
  },
  {
   "cell_type": "code",
   "execution_count": null,
   "metadata": {},
   "outputs": [],
   "source": [
    "create_character('Aragorn', abilities=('Swording', 'Healing'))"
   ]
  },
  {
   "cell_type": "markdown",
   "metadata": {},
   "source": [
    "Beliebig viele Übergabeparameter"
   ]
  },
  {
   "cell_type": "code",
   "execution_count": 8,
   "metadata": {},
   "outputs": [],
   "source": [
    "def create_character(name, *abilities, race='Human', hitpoints=100):\n",
    "    print('Name:', name)\n",
    "    print('Race:', race)\n",
    "    print('Hitpoints:', hitpoints)\n",
    "    if abilities:\n",
    "        print('Abilities:')\n",
    "        for ability in abilities:\n",
    "            print('  -', ability)"
   ]
  },
  {
   "cell_type": "code",
   "execution_count": null,
   "metadata": {},
   "outputs": [],
   "source": [
    "create_character('Jonas')"
   ]
  },
  {
   "cell_type": "code",
   "execution_count": null,
   "metadata": {},
   "outputs": [],
   "source": [
    "create_character('Jonas', 'Coding', 'Teaching', 'Sleeping', hitpoints=25, )"
   ]
  },
  {
   "cell_type": "markdown",
   "metadata": {},
   "source": [
    "# Aufgaben \n",
    "\n",
    "## Aufgabe 1: Prämienberechnung\n",
    "\n",
    "Schreibe eine Funktion `calculate_premium`, die die Prämie für eine Versicherungspolice berechnet. Die Funktion sollte folgende Parameter akzeptieren:\n",
    "\n",
    "- `sum_insured`: Die versicherte Summe (in Euro)\n",
    "- `risk_factor`: Ein Risikofaktor (z. B. 1.2 für erhöhtes Risiko)\n",
    "- `base_premium`: Eine Basisprämie (in Euro)\n",
    "\n",
    "Die Funktion sollte die Prämie mit der Formel `prämie = sum_insured * risk_factor * base_premium` berechnen und zurückgeben.\n",
    "\n",
    "**Beispielaufruf:**\n",
    "\n",
    "```python\n",
    "premium = calculate_premium(100000, 1.2, 0.05)\n",
    "print(f\"Die Prämie beträgt: {premium} Euro\")"
   ]
  },
  {
   "cell_type": "code",
   "execution_count": 1,
   "metadata": {},
   "outputs": [],
   "source": [
    "def calculate_premium(sum_insured, risk_factor, base_premium): # Übergabeparameter nicht vergessen\n",
    "    return sum_insured * risk_factor * base_premium"
   ]
  },
  {
   "cell_type": "code",
   "execution_count": null,
   "metadata": {},
   "outputs": [],
   "source": [
    "# Code zum Testen\n",
    "calculate_premium(100000, 1.2, 0.05) # Ausgabe: 6000"
   ]
  },
  {
   "cell_type": "markdown",
   "metadata": {},
   "source": [
    "## Aufgabe 2: Schadensfallbewertung\n",
    "\n",
    "Schreibe eine Funktion `evaluate_claim`, die einen Schadensfall bewertet. Die Funktion sollte folgende Parameter akzeptieren:\n",
    "\n",
    "- `claim_amount`: Der Betrag des Schadens (in Euro)\n",
    "- `deductible`: Der Selbstbehalt (in Euro)\n",
    "\n",
    "Die Funktion sollte den ausgezahlten Betrag berechnen, indem sie den Selbstbehalt vom Schadensbetrag abzieht (falls der Schadensbetrag höher ist als der Selbstbehalt), und diesen zurückgeben. Wenn der Schadensbetrag kleiner oder gleich dem Selbstbehalt ist, sollte die Funktion `0` zurückgeben.\n",
    "\n",
    "**Beispielaufruf:**\n",
    "\n",
    "```python\n",
    "payout = evaluate_claim(1500, 300)\n",
    "print(f\"Der ausgezahlte Betrag beträgt: {payout} Euro\")"
   ]
  },
  {
   "cell_type": "code",
   "execution_count": 3,
   "metadata": {},
   "outputs": [],
   "source": [
    "def evaluate_claim(claim_amount, deductible):\n",
    "    return (max(0, claim_amount - deductible))"
   ]
  },
  {
   "cell_type": "code",
   "execution_count": null,
   "metadata": {},
   "outputs": [],
   "source": [
    "# Code zum testen\n",
    "print(evaluate_claim(1500, 300)) # Ausgabe 1200\n",
    "print(evaluate_claim(100, 300))  # Ausgabe 0"
   ]
  },
  {
   "cell_type": "markdown",
   "metadata": {},
   "source": [
    "## Aufgabe 3: Altersabhängige Prämienanpassung\n",
    "\n",
    "Schreibe eine Funktion `adjust_premium_for_age`, die die Prämie basierend auf dem Alter des Versicherungsnehmers anpasst. Die Funktion sollte folgende Parameter akzeptieren:\n",
    "\n",
    "- `base_premium`: Die Basisprämie (in Euro)\n",
    "- `age`: Das Alter des Versicherungsnehmers\n",
    "\n",
    "Die Funktion sollte die folgende Logik verwenden, um die Prämie anzupassen:\n",
    "\n",
    "- Wenn das Alter unter 25 Jahren ist, multipliziere die Prämie mit 1.5.\n",
    "- Wenn das Alter zwischen 25 und 50 Jahren liegt, bleibt die Prämie gleich.\n",
    "- Wenn das Alter über 50 Jahren ist, multipliziere die Prämie mit 0.8.\n",
    "\n",
    "Die Funktion sollte die angepasste Prämie zurückgeben.\n",
    "\n",
    "**Beispielaufruf:**\n",
    "\n",
    "```python\n",
    "adjusted_premium = adjust_premium_for_age(100, 60)\n",
    "print(f\"Die angepasste Prämie beträgt: {adjusted_premium} Euro\")\n"
   ]
  },
  {
   "cell_type": "code",
   "execution_count": 5,
   "metadata": {},
   "outputs": [],
   "source": [
    "def adjust_premium_for_age(base_premium, age):\n",
    "    if age < 25:\n",
    "        premium = base_premium * 1.5\n",
    "    elif age >= 25 and age < 50:\n",
    "        premium = base_premium\n",
    "    else:\n",
    "        premium = base_premium * 0.8\n",
    "\n",
    "    return premium"
   ]
  },
  {
   "cell_type": "code",
   "execution_count": null,
   "metadata": {},
   "outputs": [],
   "source": [
    "# Code zum Testen\n",
    "print(adjust_premium_for_age(100,23)) # 150\n",
    "print(adjust_premium_for_age(100,49)) # 100\n",
    "print(adjust_premium_for_age(100,50)) # 80"
   ]
  },
  {
   "cell_type": "markdown",
   "metadata": {},
   "source": [
    "# Funktionale Programmierung\n",
    "\n",
    "Funktionale Programmierung ist ein Paradigma, das sich auf das Berechnen von Werten mithilfe von Funktionen konzentriert. In Python gibt es viele eingebaute Funktionen und Konzepte, die sich gut für die funktionale Programmierung eignen, wie map(), filter(), reduce(), List Comprehensions, und Generatoren.\n",
    "\n",
    "Wir werden uns anonyme Funktionen (sogenannte Lambda-Funktionen), List Comprehensions (kennen wir schon) und Generatoren anschauen."
   ]
  },
  {
   "cell_type": "markdown",
   "metadata": {},
   "source": [
    "# Lambda Funktionen\n",
    "\n",
    "Lambda-Funktionen sind kleine anonyme Funktionen, die besonders nützlich sind, wenn man eine einfache Funktion nur einmal verwenden möchte."
   ]
  },
  {
   "cell_type": "code",
   "execution_count": null,
   "metadata": {},
   "outputs": [],
   "source": [
    "# Beispiel\n",
    "addiere = lambda x, y: x + y\n",
    "print(addiere(3, 5))\n",
    "\n"
   ]
  },
  {
   "cell_type": "code",
   "execution_count": null,
   "metadata": {},
   "outputs": [],
   "source": [
    "# Basisprämie und Risikofaktor\n",
    "sum_insured = 100000  # versicherte Summe in Euro\n",
    "risk_factor = 1.2     # Risikofaktor\n",
    "\n",
    "# Lambda-Funktion zur Berechnung der Prämie\n",
    "calculate_premium = lambda sum_insured, risk_factor: sum_insured * risk_factor * 0.05\n",
    "\n",
    "# Berechnung der Prämie\n",
    "premium = calculate_premium(sum_insured, risk_factor)\n",
    "print(f\"Die berechnete Prämie beträgt: {premium:.2f} Euro\")"
   ]
  },
  {
   "cell_type": "markdown",
   "metadata": {},
   "source": [
    "# Verwendung von `import` in Python\n",
    "\n",
    "In Python ermöglicht der Befehl `import` das Einfügen von Modulen in dein Programm. Ein Modul ist eine Datei, die Python-Code enthält und Funktionen, Klassen und Variablen definiert. Durch das Importieren von Modulen kannst du auf die Funktionen und Klassen zugreifen, die in diesen Modulen definiert sind, ohne sie selbst neu schreiben zu müssen.\n",
    "\n",
    "## Importieren eines gesamten Moduls\n",
    "\n",
    "Man kann ein ganzes Modul mit dem folgenden Befehl importieren:\n",
    "\n",
    "```python\n",
    "import modulname\n"
   ]
  },
  {
   "cell_type": "code",
   "execution_count": null,
   "metadata": {},
   "outputs": [],
   "source": [
    "import math\n",
    "\n",
    "# Berechnung der Quadratwurzel\n",
    "wurzel = math.sqrt(16)\n",
    "print(f\"Die Quadratwurzel von 16 ist: {wurzel}\")\n"
   ]
  },
  {
   "cell_type": "markdown",
   "metadata": {},
   "source": [
    "Hin und wieder möchte man nicht das ganze Modul importieren sondern nur einzelne Funktionen. Das geht mittels\n",
    "\n",
    "```python\n",
    "from modulname import funktion"
   ]
  },
  {
   "cell_type": "code",
   "execution_count": null,
   "metadata": {},
   "outputs": [],
   "source": [
    "from math import sqrt\n",
    "\n",
    "# Berechnung der Quadratwurzel\n",
    "wurzel = sqrt(25)\n",
    "print(f\"Die Quadratwurzel von 25 ist: {wurzel}\")\n"
   ]
  },
  {
   "cell_type": "markdown",
   "metadata": {},
   "source": [
    "Wir werden im Laufe der Veranstaltung noch viele (deutlich mächtigere) Module/Pakete importieren. "
   ]
  },
  {
   "cell_type": "markdown",
   "metadata": {},
   "source": [
    "### Speicherverwaltung in Python\n",
    "\n",
    "Die Speicherverwaltung in Python ist größtenteils automatisch, dank eines Mechanismus, der als **Garbage Collection** bezeichnet wird. Dennoch gibt es einige grundlegende Konzepte, die wichtig sind, um ein effizientes Arbeiten mit Speicherressourcen zu verstehen.\n",
    "\n",
    "#### Wichtige Konzepte der Speicherverwaltung in Python\n",
    "\n",
    "1. **Zuweisung von Speicher**:\n",
    "    - Wenn man einer Variablen einen Wert zuweist, erstellt Python automatisch ein Objekt im Speicher, das diesen Wert enthält, und die Variable verweist darauf.\n",
    "    - Python unterscheidet zwischen **mutable** (veränderbaren) und **immutable** (unveränderbaren) Objekten:\n",
    "        - Mutable Objekte (wie Listen oder Dictionaries) können nach der Zuweisung verändert werden.\n",
    "        - Immutable Objekte (wie Strings, Tupel und Zahlen) können nicht verändert werden. Wenn du beispielsweise einer bestehenden Variablen einen neuen Wert zuweist, erstellt Python ein neues Objekt und weist der Variablen die neue Speicheradresse zu.\n",
    "\n",
    "2. **Referenzzähler**:\n",
    "    - Python verwendet ein **Referenzzählersystem**, um zu verfolgen, wie viele Variablen auf ein bestimmtes Objekt zeigen. Wenn der Zähler für ein Objekt auf **0** fällt (das heißt, es gibt keine Verweise mehr darauf), wird der Speicher automatisch freigegeben.\n",
    "\n",
    "3. **Garbage Collection**:\n",
    "    - Python hat eine automatische **Garbage Collection**, die den nicht mehr benötigten Speicherplatz aufräumt. Sie basiert hauptsächlich auf dem Referenzzählersystem, um zu entscheiden, wann Objekte gelöscht werden sollten.\n",
    "\n",
    "4. **Speicherfreigabe mit `del`**:\n",
    "    - Mit der **`del`-Anweisung** kannst man explizit den Verweis auf ein Objekt löschen, wodurch dessen Referenzzähler reduziert wird. Wenn keine weiteren Verweise auf das Objekt bestehen, wird es aus dem Speicher entfernt.\n"
   ]
  },
  {
   "cell_type": "code",
   "execution_count": null,
   "metadata": {},
   "outputs": [],
   "source": [
    "# Beispiel 1: Mutable und Immutable Objekte\n",
    "print(\"Mutable vs Immutable Objekte\")\n",
    "\n",
    "# Immutable: Strings\n",
    "a = \"Hallo\"\n",
    "print(f\"Vor Änderung: a = {a} (ID: {id(a)})\")\n",
    "a = \"Welt\"  # Neues Objekt wird erstellt\n",
    "print(f\"Nach Änderung: a = {a} (ID: {id(a)})\")\n",
    "\n",
    "# Mutable: Listen\n",
    "b = [1, 2, 3]\n",
    "print(f\"\\nVor Änderung: b = {b} (ID: {id(b)})\")\n",
    "b.append(4)  # Die Liste wird im Speicher verändert\n",
    "print(f\"Nach Änderung: b = {b} (ID: {id(b)})\")\n",
    "\n",
    "# Beispiel 2: Referenzzähler und `del`\n",
    "print(\"\\nReferenzzähler und Speicherverwaltung\")\n",
    "\n",
    "x = [1, 2, 3]\n",
    "y = x  # x und y verweisen auf das gleiche Objekt\n",
    "print(f\"Referenzzähler für x und y: {id(x)} == {id(y)}\")\n",
    "\n",
    "del x  # Löscht den Verweis x\n",
    "print(\"x gelöscht. Verbleibender Zugriff auf das Objekt über y:\", y)\n",
    "\n",
    "# Garbage Collection tritt ein, wenn keine Referenzen mehr bestehen\n"
   ]
  }
 ],
 "metadata": {
  "kernelspec": {
   "display_name": "Python 3",
   "language": "python",
   "name": "python3"
  },
  "language_info": {
   "codemirror_mode": {
    "name": "ipython",
    "version": 3
   },
   "file_extension": ".py",
   "mimetype": "text/x-python",
   "name": "python",
   "nbconvert_exporter": "python",
   "pygments_lexer": "ipython3",
   "version": "3.11.9"
  }
 },
 "nbformat": 4,
 "nbformat_minor": 2
}
