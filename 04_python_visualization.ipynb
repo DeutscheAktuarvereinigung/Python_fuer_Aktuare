{
 "cells": [
  {
   "cell_type": "markdown",
   "metadata": {},
   "source": [
    "# Python für Aktuare Teil 4\n",
    "\n",
    "## Agenda\n",
    "Innerhalb dieses Notebooks behandeln wir:\n",
    "- Einführung in Matplotlib\n",
    "- Erweiterte Visualisierungen\n",
    "- Seaborn für erweiterte Visualisierungen\n",
    "- Eigenschaften gelungener Visualisierungen\n",
    "\n",
    "# Einführung in Matplotlib und pyplot\n",
    "\n",
    "`matplotlib.pyplot` ist eine zentrale Bibliothek in Python für die Visualisierung von Daten. Sie bietet eine einfache Schnittstelle zur Erstellung von 2D-Diagrammen und ist besonders nützlich, um Daten schnell und effektiv darzustellen. Von einfachen Liniendiagrammen bis hin zu komplexen Visualisierungen – mit `pyplot` können Sie eine Vielzahl von Diagrammtypen erstellen."
   ]
  },
  {
   "cell_type": "markdown",
   "metadata": {},
   "source": [
    "# Matplotlib und die Inspiration durch andere Tools\n",
    "\n",
    "Matplotlib hat sich von verschiedenen Tools und Konzepten inspirieren lassen, darunter:\n",
    "\n",
    "- **Gnuplot**: Ein traditionelles Visualisierungstool, das die Grundlage für viele Features von Matplotlib lieferte, insbesondere für einfache Plotting-Mechanismen.\n",
    "  \n",
    "- **ggplot (R)**: Eine weitere bedeutende Inspirationsquelle für Matplotlib, insbesondere für die Layer-basierte Struktur, die es ermöglicht, Plots schrittweise aufzubauen.\n",
    "\n",
    "Matplotlib orientiert sich teilweise an der **Grammar of Graphics**, einem Konzept, das von Leland Wilkinson entwickelt wurde. Es beschreibt, wie grafische Darstellungen in mehreren Schichten organisiert werden: Daten, Ästhetiken (wie Farbe oder Größe), Geometrien (wie Linien oder Punkte), und Skalen (z. B. Achsen). Dieses System ermöglicht eine flexible und systematische Herangehensweise an die Datenvisualisierung.\n"
   ]
  },
  {
   "cell_type": "markdown",
   "metadata": {},
   "source": [
    "## Grundlegende Funktionsweise\n",
    "\n",
    "Um mit `matplotlib.pyplot` zu arbeiten, müssen Sie die Bibliothek zuerst importieren. Die grundlegende Syntax besteht darin, Daten an eine Diagrammfunktion wie `plot()` zu übergeben und dann die Funktion `show()` aufzurufen, um das Diagramm anzuzeigen:"
   ]
  },
  {
   "cell_type": "code",
   "execution_count": null,
   "metadata": {},
   "outputs": [],
   "source": [
    "import matplotlib.pyplot as plt\n",
    "\n",
    "# Beispiel: Einfache Liniengrafik\n",
    "x = [1, 2, 3, 4, 5]\n",
    "y = [2, 4, 6, 8, 10]\n",
    "\n",
    "plt.plot(x, y)  # Erstellen eines Liniendiagramms\n",
    "plt.title(\"Ein einfaches Liniendiagramm\")  # Diagrammtitel hinzufügen\n",
    "plt.xlabel(\"X-Achse\")  # X-Achsenbeschriftung\n",
    "plt.ylabel(\"Y-Achse\")  # Y-Achsenbeschriftung\n",
    "plt.show()  # Zeigt das Diagramm an\n"
   ]
  },
  {
   "cell_type": "markdown",
   "metadata": {},
   "source": [
    "# Elemente einer Matplotlib-Figure\n",
    "\n",
    "In `matplotlib` ist eine **Figure** das gesamte Bild oder die Darstellung, die Sie erzeugen. Eine Figure kann verschiedene Bestandteile haben, die im Folgenden beschrieben sind:\n",
    "\n",
    "- **Figure**: Die gesamte Zeichnung oder das Bild, das Sie erzeugen. Eine Figure kann mehrere Unterplots enthalten.\n",
    "  \n",
    "- **Axes (Achsen)**: Der Bereich, in dem die Daten geplottet werden. Eine Figure kann eine oder mehrere Achsen (Subplots) haben.\n",
    "\n",
    "- **Title (Titel)**: Der Titel des Plots, der das Diagramm beschreibt.\n",
    "\n",
    "- **Labels (Achsenbeschriftungen)**: Beschriftungen der x- und y-Achsen, die die Bedeutung der Achsen verdeutlichen.\n",
    "\n",
    "- **Legend (Legende)**: Erklärt die verschiedenen Datenreihen innerhalb des Plots.\n",
    "\n",
    "- **Ticks (Achsenmarkierungen)**: Die Markierungen entlang der Achsen, die bestimmte Werte darstellen.\n",
    "\n",
    "- **Subplots**: Mehrere Diagramme innerhalb einer Figure, die in einem Raster angeordnet sind.\n",
    "\n",
    "Eine **Matplotlib-Figure** besteht also aus mehreren Komponenten, die individuell angepasst werden können, um aussagekräftige Datenvisualisierungen zu erstellen.\n",
    "\n",
    "<img src=\"./images/anatomyMatplotFigure.webp\" alt=\"anatomy of a figure\" style=\"width:50%;\">"
   ]
  },
  {
   "cell_type": "markdown",
   "metadata": {},
   "source": [
    "Bevor wir uns verschiedene Diagrammarten anschauen, wollen wir erst einmal an einem sehr einfachen Beispiel die verschiedenen Elemente einer *Figure* manipulieren.\n",
    "\n",
    "Dazu benötigen wir natürlich erst einmal Daten. Wir simulieren synthetische Schadensdaten:"
   ]
  },
  {
   "cell_type": "code",
   "execution_count": null,
   "metadata": {},
   "outputs": [],
   "source": [
    "import pandas as pd\n",
    "import numpy as np\n",
    "\n",
    "# Parameter für das Datenset\n",
    "np.random.seed(42)\n",
    "anzahl_eintraege = 400  # Anzahl der Schadensmeldungen\n",
    "startdatum = pd.to_datetime('2020-01-01')\n",
    "enddatum = pd.to_datetime('2023-12-31')\n",
    "dates = pd.date_range(start=startdatum, end=enddatum, periods=anzahl_eintraege)\n",
    "\n",
    "# Generiere synthetische Daten\n",
    "contract_ids = np.random.randint(10000, 20000, anzahl_eintraege)\n",
    "schadenhoehe = np.random.normal(loc=10000, scale=3000, size= anzahl_eintraege)\n",
    "regionen = np.random.choice(['Nord', 'Ost', 'Süd', 'West'], anzahl_eintraege)\n",
    "claim_types = np.random.choice(['earthquake', 'flood', 'hurricane', 'wildfire'], anzahl_eintraege)\n",
    "\n",
    "# Schadenhöhe auf positive Werte beschränken und auf zwei Nachkommastellen runden\n",
    "schadenhoehe = np.clip(schadenhoehe, 500, None)\n",
    "schadenhoehe = np.round(schadenhoehe, 2)\n",
    "\n",
    "# Erstelle DataFrame\n",
    "naturschaden_df = pd.DataFrame({\n",
    "    'Schadensdatum': dates,\n",
    "    'contract_id': contract_ids,\n",
    "    'Schadenhöhe': schadenhoehe,\n",
    "    'Region': regionen,\n",
    "    'claim_type': claim_types\n",
    "})\n",
    "\n",
    "# Ausgabe der ersten Zeilen des Datensets\n",
    "print(naturschaden_df.head())\n"
   ]
  },
  {
   "cell_type": "markdown",
   "metadata": {},
   "source": [
    "Visualisieren wollen wir die Daten auf Monatsebene, also müssen wir gruppieren und pivotisieren:"
   ]
  },
  {
   "cell_type": "code",
   "execution_count": null,
   "metadata": {},
   "outputs": [],
   "source": [
    "# Gruppieren nach Jahr und Monat und Summieren der Schadenhöhe\n",
    "naturschaden_df['Monat'] = naturschaden_df['Schadensdatum'].dt.to_period('M')\n",
    "monats_gruppiert = naturschaden_df.groupby(['Monat', 'Region'])['Schadenhöhe'].sum().reset_index()\n",
    "\n",
    "# Pivotieren des DataFrames, um Regionen als Spalten zu haben\n",
    "pivot_df = monats_gruppiert.pivot(index='Monat', columns='Region', values='Schadenhöhe').fillna(0)\n",
    "pivot_df.head()"
   ]
  },
  {
   "cell_type": "markdown",
   "metadata": {},
   "source": [
    "Und jetzt geht es an Zeichnen:"
   ]
  },
  {
   "cell_type": "code",
   "execution_count": null,
   "metadata": {},
   "outputs": [],
   "source": [
    "# Visualisierung\n",
    "plt.figure(figsize=(12, 6))\n",
    "\n",
    "pass\n",
    "\n",
    "plt.show()"
   ]
  },
  {
   "cell_type": "markdown",
   "metadata": {},
   "source": [
    "Und jetzt das gleiche Schaubild nochmal aber mit einigen kleinen Veränderungen:"
   ]
  },
  {
   "cell_type": "code",
   "execution_count": null,
   "metadata": {},
   "outputs": [],
   "source": [
    "# Visualisierung\n",
    "plt.figure(figsize=(12, 6))\n",
    "\n",
    "pass \n",
    "\n",
    "plt.show()\n"
   ]
  },
  {
   "cell_type": "markdown",
   "metadata": {},
   "source": [
    "Prinzipiell ist alles anpassbar. Der Code wird allerdings jedes mal komplexer..."
   ]
  },
  {
   "cell_type": "markdown",
   "metadata": {},
   "source": [
    "## Weitere Diagramme\n",
    "Bisher haben wir mit einem Liniendiagramm gearbeitet, es gibt aber, wie Sie wissen, deutlich mehr Arten von Diagrammen. Wir gehen jetzt immer mit einem Minimalbeispiel und ziemlich schnell durch die verschiedenen Diagramm-Arten durch. "
   ]
  },
  {
   "cell_type": "markdown",
   "metadata": {},
   "source": [
    "## Balkendiagramm"
   ]
  },
  {
   "cell_type": "code",
   "execution_count": null,
   "metadata": {},
   "outputs": [],
   "source": [
    "# Gruppiere die Daten nach Regionen und zähle die Schadensmeldungen\n",
    "schaden_pro_region = naturschaden_df['Region'].value_counts()\n",
    "\n",
    "# Erstelle das Balkendiagramm\n",
    "plt.figure(figsize=(8, 6))\n",
    "schaden_pro_region.plot(kind='bar', color='skyblue')\n",
    "plt.title('Anzahl der Schadensmeldungen pro Region')\n",
    "plt.xlabel('Region')\n",
    "plt.ylabel('Anzahl der Meldungen')\n",
    "plt.show()"
   ]
  },
  {
   "cell_type": "markdown",
   "metadata": {},
   "source": [
    "## Kuchen- / Kreisdiagramm"
   ]
  },
  {
   "cell_type": "code",
   "execution_count": null,
   "metadata": {},
   "outputs": [],
   "source": [
    "# Gruppiere die Daten nach Schadensarten und zähle die Vorkommen\n",
    "schaden_pro_claim_type = naturschaden_df['claim_type'].value_counts()\n",
    "\n",
    "# Erstelle das Kuchendiagramm\n",
    "plt.figure(figsize=(8, 6))\n",
    "schaden_pro_claim_type.plot(kind='pie', autopct='%1.1f%%', colors=['lightcoral', 'lightblue', 'lightgreen', 'gold'])\n",
    "plt.title('Verteilung der Schadensarten')\n",
    "plt.ylabel('')  # Entfernt die Beschriftung der Y-Achse\n",
    "plt.show()"
   ]
  },
  {
   "cell_type": "markdown",
   "metadata": {},
   "source": [
    "# Statistische Diagramme: Histogramm, Boxplot und Violinplot\n",
    "\n",
    "Neben den klassischen Visualisierungen wie Balken- und Kuchendiagrammen gibt es auch statistische Diagramme, die dabei helfen, die Verteilung und Streuung von Daten zu verstehen. Zu den gebräuchlichsten gehören Histogramme, Boxplots und Violinplots.\n",
    "\n",
    "## Histogramm"
   ]
  },
  {
   "cell_type": "code",
   "execution_count": null,
   "metadata": {},
   "outputs": [],
   "source": [
    "# Erstelle das Histogramm für die Schadenhöhe\n",
    "plt.figure(figsize=(8, 6))\n",
    "plt.hist(naturschaden_df['Schadenhöhe'], bins=20, color='lightblue', edgecolor='black')\n",
    "plt.title('Verteilung der Schadenhöhe')\n",
    "plt.xlabel('Schadenhöhe')\n",
    "plt.ylabel('Häufigkeit')\n",
    "plt.show()\n"
   ]
  },
  {
   "cell_type": "markdown",
   "metadata": {},
   "source": [
    "# Boxplot"
   ]
  },
  {
   "cell_type": "code",
   "execution_count": null,
   "metadata": {},
   "outputs": [],
   "source": [
    "# Erstelle den Boxplot für Schadenhöhe pro Region\n",
    "plt.figure(figsize=(8, 6))\n",
    "naturschaden_df.boxplot(column='Schadenhöhe', by='Region', grid=False, patch_artist=True, boxprops=dict(facecolor='lightblue'))\n",
    "plt.title('Boxplot der Schadenhöhe nach Region')\n",
    "plt.suptitle('')  # Entfernt den zusätzlichen Titel\n",
    "plt.xlabel('Region')\n",
    "plt.ylabel('Schadenhöhe')\n",
    "plt.show()\n"
   ]
  },
  {
   "cell_type": "markdown",
   "metadata": {},
   "source": [
    "## Scatterplot"
   ]
  },
  {
   "cell_type": "code",
   "execution_count": null,
   "metadata": {},
   "outputs": [],
   "source": [
    "# Farben für die verschiedenen Schadensarten\n",
    "farben = {'earthquake': 'red', 'flood': 'blue', 'hurricane': 'green', 'wildfire': 'purple'}\n",
    "\n",
    "plt.figure(figsize=(10, 6))\n",
    "\n",
    "# Streudiagramm mit verschiedenen Farben für jede Schadensart\n",
    "for claim in naturschaden_df['claim_type'].unique():\n",
    "    subset = naturschaden_df[naturschaden_df['claim_type'] == claim]\n",
    "    plt.scatter(subset['Schadensdatum'], subset['Schadenhöhe'], \n",
    "                c=farben[claim], label=claim, alpha=0.6)\n",
    "\n",
    "# Diagramm anpassen\n",
    "plt.title('Schadenhöhe über Zeit nach Schadensart')\n",
    "plt.xlabel('Schadensdatum')\n",
    "plt.ylabel('Schadenhöhe')\n",
    "plt.legend(title='Schadensart')\n",
    "plt.xticks(rotation=45)\n",
    "plt.grid(True)\n",
    "\n",
    "plt.show()\n"
   ]
  },
  {
   "cell_type": "markdown",
   "metadata": {},
   "source": [
    "## Aufgabe: Erstellen Sie verschiedene Schaubilder mit matplotlib\n",
    "\n",
    "Sie haben nun die Grundlagen von matplotlib kennengelernt. Erstellen Sie für den bereitgestellten Datensatz **naturschaden_df** folgende Schaubilder, um verschiedene Aspekte der Daten zu visualisieren:\n",
    "\n",
    "1. **Liniendiagramm**: Visualisieren Sie die Entwicklung der Schadenshöhe über die Zeit. Gruppieren Sie dabei nach den verschiedenen Regionen. Passen Sie die folgenden Elemente an:\n",
    "   - Farben und Linienstile (z.B. gestrichelte Linie, dickere Linien).\n",
    "   - Beschriftungen der x- und y-Achse (Axis Labels).\n",
    "   - Titel für das Diagramm.\n",
    "   - Verschieben Sie die Legende an eine sinnvolle Position.\n",
    "   - Heben Sie eine einzelne Linie (z.B. die Region \"Nord\") visuell hervor.\n",
    "   \n",
    "2. **Balkendiagramm (Barplot)**: Stellen Sie die durchschnittliche Schadenshöhe für jede Region dar. Achten Sie darauf:\n",
    "   - Einen passenden Titel und Beschriftungen zu setzen.\n",
    "   - Die Balken in verschiedenen Farben darzustellen.\n",
    "   \n",
    "3. **Kreisdiagramm (Pie Chart)**: Erstellen Sie ein Kreisdiagramm, das die Verteilung der Schadensmeldungen auf die Regionen visualisiert. Verwenden Sie geeignete Farben und fügen Sie eine Legende hinzu.\n",
    "\n",
    "4. **Streudiagramm (Scatterplot)**: Visualisieren Sie den Zusammenhang zwischen der Schadenhöhe und der Anzahl der Tage seit dem Versicherungsbeginn (1.1.2020). Passen Sie an:\n",
    "   - Farben der Punkte nach der Region.\n",
    "   - Setzen Sie Markierungen für die Datenpunkte.\n",
    "   - Fügen Sie Titel und Achsenbeschriftungen hinzu.\n",
    "   - Heben Sie einen Datenpunkt (z.B. den höchsten Schaden) mit einer Annotation hervor.\n",
    "\n",
    "In jedem der Diagramme sollten Sie zusätzlich:\n",
    "   - Die Ticks (Skalenstriche) auf den Achsen anpassen, um eine übersichtliche Darstellung zu gewährleisten.\n",
    "   - Die Achsenbeschriftungen (x- und y-Achse) sowie den Titel sinnvoll setzen.\n",
    "\n",
    "Nutzen Sie die bisherigen Erklärungen und Beispiele, um diese Aufgabe erfolgreich zu lösen. Experimentieren Sie auch mit weiteren Anpassungen!\n"
   ]
  },
  {
   "cell_type": "markdown",
   "metadata": {},
   "source": [
    "# Seaborn\n",
    "Mit matplotlib kommt man relativ schnell an Grenzen, insbesondere wenn es um komplexere Visualisierungen oder die Ästhetik der Plots geht. An dieser Stelle kommt Seaborn ins Spiel, eine Bibliothek, die auf matplotlib aufbaut und speziell für statistische Grafiken entwickelt wurde.\n",
    "\n",
    "Seaborn bietet folgende Vorteile:\n",
    "\n",
    "- **Einfache Erstellung von komplexen Diagrammen**: Diagramme wie Heatmaps, Korrelationstabellen oder Violinplots können mit wenigen Zeilen Code erstellt werden.\n",
    "- **Verbesserte Ästhetik**: Die Diagramme sehen standardmäßig ansprechender aus als bei matplotlib.\n",
    "- **Eingebaute Unterstützung für Pandas-Daten**: Seaborn kann direkt mit DataFrames arbeiten und erkennt Spalten als Dimensionen.\n",
    "- **Automatische Aggregation und Ausgleich**: Seaborn kann Daten auf einfache Weise aggregieren und glättet oft automatisch Kurven für bessere Lesbarkeit.\n",
    "\n",
    "## Installation\n",
    "Bevor wir Seaborn verwenden können, muss die Bibliothek installiert/importiert werden:\n",
    "\n",
    "```bash\n",
    "pip install seaborn\n"
   ]
  },
  {
   "cell_type": "code",
   "execution_count": 46,
   "metadata": {},
   "outputs": [],
   "source": [
    "import seaborn as sns"
   ]
  },
  {
   "cell_type": "markdown",
   "metadata": {},
   "source": [
    "## Violinplot\n",
    "Der Violinplot ist eine Weiterentwicklung des Boxplots. Zusätzlich zu den Daten aus dem Boxplot zeigt er eine Dichteverteilung der Daten an."
   ]
  },
  {
   "cell_type": "code",
   "execution_count": null,
   "metadata": {},
   "outputs": [],
   "source": [
    "# Erstelle den Violinplot für Schadenhöhe pro Region\n",
    "plt.figure(figsize=(8, 6))\n",
    "sns.violinplot(x='Region', y='Schadenhöhe', data=naturschaden_df, palette='pastel')\n",
    "plt.title('Violinplot der Schadenhöhe nach Region')\n",
    "plt.xlabel('Region')\n",
    "plt.ylabel('Schadenhöhe')\n",
    "plt.show()\n"
   ]
  },
  {
   "cell_type": "markdown",
   "metadata": {},
   "source": [
    "# Heatmap\n",
    "\n",
    "Heatmaps bieten eine ausgezeichnete Möglichkeit, Matrixdaten zu visualisieren. Sie zeigen Werte in einem zweidimensionalen Gitter (Matrix), wobei die Farbintensität den Wert an jeder Position darstellt. In einem Versicherungsdatensatz könnte man Heatmaps verwenden, um z.B. Schadenshöhen in verschiedenen Regionen oder Zeiträumen zu vergleichen."
   ]
  },
  {
   "cell_type": "code",
   "execution_count": null,
   "metadata": {},
   "outputs": [],
   "source": [
    "# Schadenhöhe nach Region und Schadensdatum aggregieren\n",
    "heatmap_data = naturschaden_df.pivot_table(values='Schadenhöhe', \n",
    "                                           index=naturschaden_df['Schadensdatum'].dt.year, \n",
    "                                           columns='Region', aggfunc='mean') /10000\n",
    "\n",
    "# Erstellen einer Heatmap\n",
    "plt.figure(figsize=(10, 6))\n",
    "sns.heatmap(heatmap_data, cmap=\"coolwarm\", annot=True)\n",
    "plt.title(\"Durchschnittliche Schadenhöhe pro Jahr und Region (in 10.000)\")\n",
    "plt.show()"
   ]
  },
  {
   "cell_type": "markdown",
   "metadata": {},
   "source": [
    "# Korrelationsplot\n",
    "\n",
    "Korrelationsplots sind nützlich, um Beziehungen zwischen verschiedenen numerischen Variablen zu erkennen. Mit seaborn lässt sich die Korrelation in einem DataFrame leicht visualisieren. Sie helfen dabei, Zusammenhänge zwischen Variablen wie Schadenhöhe, Vertragsnummer, oder Versicherungsnummer darzustellen."
   ]
  },
  {
   "cell_type": "code",
   "execution_count": null,
   "metadata": {},
   "outputs": [],
   "source": [
    "# Neue Spalte zur Vertragsdauer hinzufügen\n",
    "naturschaden_df['Vertragsdauer'] = (naturschaden_df['Schadensdatum'] - pd.to_datetime('2020-01-01')).dt.days\n",
    "\n",
    "# Auswahl der numerischen Variablen für die Korrelationsmatrix\n",
    "numerische_variablen = ['Schadenhöhe', 'contract_id', 'Vertragsdauer']\n",
    "\n",
    "# Berechnen der Korrelationsmatrix\n",
    "korrelationsmatrix = naturschaden_df[numerische_variablen].corr()\n",
    "\n",
    "# Visualisierung der Korrelationsmatrix als Heatmap\n",
    "plt.figure(figsize=(8, 6))\n",
    "sns.heatmap(korrelationsmatrix, annot=True, cmap='coolwarm', vmin=-1, vmax=1, linewidths=.5)\n",
    "plt.title(\"Korrelationsmatrix der numerischen Variablen\")\n",
    "plt.show()"
   ]
  },
  {
   "cell_type": "markdown",
   "metadata": {},
   "source": [
    "## Fazit zu den bisherigen Visualisierungen\n",
    "\n",
    "Wir haben uns in diesem Abschnitt eine Vielzahl von Visualisierungen angeschaut – von einfachen Liniendiagrammen über Balken- und Kreisdiagramme bis hin zu Scatterplots, Heatmaps und Korrelationsmatrizen. Diese Plots geben einen hervorragenden ersten Einblick in Daten und ermöglichen es, Muster, Zusammenhänge und Auffälligkeiten zu erkennen. \n",
    "\n",
    "Es gibt jedoch noch viele weitere Visualisierungsmöglichkeiten, die in der Analyse von Daten nützlich sein können, wie zum Beispiel:\n",
    "- Hexbin-Plots für die Darstellung dichter Datenpunkte\n",
    "- Pairplots für die Untersuchung von Variablenpaaren\n",
    "- Zeitreihenplots für chronologische Daten\n",
    "\n",
    "Die Welt der Visualisierung ist riesig, und **matplotlib** sowie **seaborn** bieten eine Vielzahl an Optionen, um nahezu jede Art von Diagramm zu erstellen. Um das volle Potenzial dieser Bibliotheken zu nutzen, lohnt es sich, die offizielle Dokumentation genauer zu studieren:\n",
    "\n",
    "- [matplotlib Dokumentation](https://matplotlib.org/stable/contents.html)\n",
    "- [seaborn Dokumentation](https://seaborn.pydata.org/)\n",
    "\n",
    "Diese Dokumentationen bieten umfassende Informationen und Beispiele zu allen verfügbaren Diagrammtypen sowie zu spezifischen Anpassungsmöglichkeiten.\n"
   ]
  },
  {
   "cell_type": "markdown",
   "metadata": {},
   "source": [
    "# Brainstorming Visualisierung\n",
    "\n",
    "Bevor Sie gleich mit der Abschlussaufgabe zu Visualisierungen beginnen, machen wir noch ein schnelles Brainstorming zu Datenvisualisierung.\n",
    "Bitte überlegen Sie sich Folgendes:\n",
    "- Was **muss** ein Schaubild Ihrer Meinung nach immer beinhalten, um verständlich und informativ zu sein?\n",
    "- Welche **Best-Practices** für die Erstellung von Schaubildern würden Sie Ihren Mitteilnehmern empfehlen?"
   ]
  },
  {
   "cell_type": "markdown",
   "metadata": {},
   "source": [
    "# Beispiele gelungener Visualisierungen\n",
    "\n",
    "1. Weltbevölkerung\n",
    "\n",
    "<img src=\"./images/world-population-at-8-billion.jpg\" alt=\"World Population\" style=\"width:50%;\">\n",
    "\n",
    "Quelle: ([Visual Capitalist](https://www.visualcapitalist.com/visualized-the-worlds-population-at-8-billion/))\n",
    "\n",
    "2. Plastik Müll\n",
    "\n",
    "<img src=\"./images/Plastic-Waste-Pollution-scaled.jpg\" alt=\"Plastic Waste\" style=\"width:50%;\">\n",
    "\n",
    "Quelle: ([Behance Net](https://www.behance.net/gallery/106936329/Plastic-Waste-Pollution-data-visualisation))\n",
    "\n",
    "3. Pandemie Geschichte\n",
    "\n",
    "<img src=\"./images/HoP-Main-Graphic-03012023.jpg\" alt=\"History of Pandemic\" style=\"width:50%;\">\n",
    "\n",
    "Quelle: ([Visual Capitalist](https://www.visualcapitalist.com/history-of-pandemics-deadliest/))\n",
    "\n",
    "4. Napoleons Russland Feldzug\n",
    "\n",
    "\n",
    "<img src=\"./images/Minard.png\" alt=\"History of Pandemic\" style=\"width:100%;\">\n",
    "\n",
    "Quelle: ([Wikipedia](https://en.wikipedia.org/wiki/Charles_Joseph_Minard#/media/File:Minard.png))\n",
    "\n"
   ]
  },
  {
   "cell_type": "markdown",
   "metadata": {},
   "source": [
    "## Abschlussaufgabe: Datenanalyse und Visualisierung\n",
    "\n",
    "In dieser Aufgabe wenden Sie all das Wissen, das Sie bisher erworben haben, auf einen echten Datensatz an. Wählen Sie eines der folgenden Datensets aus:\n",
    "\n",
    "- **Titanic Dataset** (`titanic_train.csv`)\n",
    "- **OECD Insurance Indicators** (`OECD_insurance_indicators.csv`)\n",
    "- **Car Insurance Claims** (`car_insurance_claim.csv`)\n",
    "- **World Happiness Report** (`worldhappinessreport.csv`)\n",
    "\n",
    "### Schritte:\n",
    "\n",
    "1. **Datensatz laden:**  \n",
    "   Laden Sie den von Ihnen gewählten Datensatz mit Pandas und verschaffen Sie sich einen ersten Überblick über die Datenstruktur. Nutzen Sie hierfür Methoden wie:\n",
    "   - `head()`, `info()`, `describe()`\n",
    "   - Welche Spalten und Daten gibt es? Wie sehen die ersten Einträge aus? Gibt es fehlende Daten?\n",
    "\n",
    "2. **Daten explorieren:**  \n",
    "   Stellen Sie sich Fragen wie:\n",
    "   - Welche Beziehungen gibt es zwischen den Variablen?\n",
    "   - Gibt es interessante Muster oder Ausreißer?\n",
    "   - Finden Sie Korrelationen zwischen verschiedenen Spalten?\n",
    "\n",
    "3. **Daten visualisieren:**  \n",
    "   Erstellen Sie mehrere möglichst **schöne und aussagekräftige Schaubilder**, um Ihre Erkenntnisse visuell darzustellen. Nutzen Sie dabei:\n",
    "   - **Liniendiagramme**: Um Trends oder Zeitreihen zu visualisieren.\n",
    "   - **Kreisdiagramme**: Um Anteile oder Verteilungen darzustellen.\n",
    "   - **Balkendiagramme**: Für Vergleichsdaten (z.B. zwischen Ländern, Kategorien).\n",
    "   - **Scatterplots**: Um Beziehungen zwischen zwei numerischen Variablen zu veranschaulichen.\n",
    "\n",
    "4. **Gestaltung der Visualisierungen:**  \n",
    "   Achten Sie auf eine ansprechende Gestaltung der Diagramme:\n",
    "   - Passen Sie Achsenbeschriftungen, Titel und die Legende an.\n",
    "   - Verwenden Sie verschiedene Farben und Linienstile, um die Diagramme hervorzuheben.\n",
    "   - Setzen Sie Markierungen oder Hervorhebungen an wichtigen Stellen (z.B. mit `annotate()` in matplotlib).\n",
    "\n",
    "### Ziel:\n",
    "Erstellen Sie eine zusammenhängende Präsentation Ihrer Datenanalyse mit mehreren Visualisierungen und beschreiben Sie, was Sie aus den Daten herauslesen konnten.\n"
   ]
  }
 ],
 "metadata": {
  "kernelspec": {
   "display_name": "Python 3",
   "language": "python",
   "name": "python3"
  },
  "language_info": {
   "codemirror_mode": {
    "name": "ipython",
    "version": 3
   },
   "file_extension": ".py",
   "mimetype": "text/x-python",
   "name": "python",
   "nbconvert_exporter": "python",
   "pygments_lexer": "ipython3",
   "version": "3.11.9"
  }
 },
 "nbformat": 4,
 "nbformat_minor": 2
}
