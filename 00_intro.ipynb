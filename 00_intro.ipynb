{
 "cells": [
  {
   "cell_type": "markdown",
   "metadata": {},
   "source": [
    "# Python für Aktuare\n",
    "\n",
    "## Agenda des Seminares\n",
    "\n",
    "- Grundlagen von Python\n",
    "    - Variablen, Kontrollstrukturen, Funktionen, Objekte\n",
    "- Datenstrukturen\n",
    "    - Listen, Tupel, Mengen, Dictionaries\n",
    "- Dateioperationen\n",
    "- Datenanalyse mit Pandas (Datenmanipulation)\n",
    "- Datenvisualisierung (Matplotlib)\n",
    "- Einführung in Maschinelles Lernen\n",
    "\n",
    "\n",
    "\n",
    "## Dozent\n",
    "\n",
    "Prof. Dr. Jonas Offtermatt\n",
    "\n",
    "Telefon: 0711 / 1849 4540, \n",
    "Email: jonas.offtermatt@dhbw-stuttgart.de\n",
    "\n",
    "## Literatur\n",
    "- The Python Tutorial [docs.python.org](https://docs.python.org/3/)\n",
    "- Michael Kofler, \"Python: Der ideale Python-Einstieg für Informatikstudium, Ausbildung und Beruf\" (ISBN: 3836285134)\n",
    "- Johannes Ernesti, Peter Kaiser, \"Python 3: Das umfassende Handbuch\" (ISBN: 3836291290)\n",
    "\n",
    "## Typische Einheit\n",
    "Alle Vorlesungen werden in Form von Jupyter Notebooks ([jupyter.org](https://jupyter.org )) bereitgestellt und durchgeführt. Ziel ist es gemeinsam zu Programmieren, wobei es auch zu jeder Einheit Übungsaufgaben geben wird, welche Sie im Rahmen der Vorlesung bearbeiten müssen.\n",
    "\n",
    "## Warum Python?\n",
    "Python ...\n",
    "\n",
    "- ist *interpretiert*\n",
    "- ist *dynamisch typisiert* (im Gegensatz zu statisch typisiert)\n",
    "- ist *automatisch speicherverwaltet*\n",
    "- unterstützt *prozedurale*, *objektorientierte*, *imperative* und *funktionale* Programmierparadigmen\n",
    "- wurde (größtenteils) von einem einzigen Mann entwickelt: [Guido van Rossum](https://gvanrossum.github.io/) (auch bekannt als \"wohlwollender Diktator\"), und hat daher ein ziemlich *meinungsstarkes* Design\n",
    "- hat eine einzige Referenzimplementierung (CPython)\n",
    "- Version 3 (die aktuellste Version) ist *nicht abwärtskompatibel* mit Version 2, obwohl letztere noch weit verbreitet ist\n",
    "- hat eine interessante Programmierphilosophie: \"There should be one — and preferably only one — obvious way to do it.\" (a.k.a. the \"Pythonic\" way) — see [The Zen of Python](https://www.python.org/dev/peps/pep-0020/)\n",
    "\n",
    "# Falls Sie sich immmer noch fragen warum:\n",
    "![image](./images/python.png)\n",
    "\n",
    "\n",
    "https://xkcd.com/353/\n",
    "\n"
   ]
  }
 ],
 "metadata": {
  "kernelspec": {
   "display_name": "Python 3",
   "language": "python",
   "name": "python3"
  },
  "language_info": {
   "codemirror_mode": {
    "name": "ipython",
    "version": 3
   },
   "file_extension": ".py",
   "mimetype": "text/x-python",
   "name": "python",
   "nbconvert_exporter": "python",
   "pygments_lexer": "ipython3",
   "version": "3.11.9"
  }
 },
 "nbformat": 4,
 "nbformat_minor": 2
}
