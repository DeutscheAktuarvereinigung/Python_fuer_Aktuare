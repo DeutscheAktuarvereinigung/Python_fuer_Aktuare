{
 "cells": [
  {
   "cell_type": "markdown",
   "metadata": {},
   "source": [
    "# Python für Aktuare Teil 2\n",
    "\n",
    "## Agenda\n",
    "Innerhalb dieses Notebooks behandeln wir:\n",
    "- Dateioperationen\n",
    "     - Datei öffnen\n",
    "     - Dateien lesen\n",
    "     - Dateien schreiben\n",
    "\n",
    "# Dateioperationen in Python\n",
    "\n",
    "In Python können wir einfach mit Dateien arbeiten, sei es zum Lesen von Daten oder zum Schreiben von Informationen. Das Arbeiten mit Dateien erfolgt in drei Schritten:\n",
    "\n",
    "1. **Öffnen** der Datei: Mit der Funktion `open()` können wir eine Datei öffnen, um sie zu lesen oder zu schreiben.\n",
    "2. **Lesen oder Schreiben**: Nachdem die Datei geöffnet wurde, können wir die gewünschten Operationen durchführen.\n",
    "3. **Schließen** der Datei: Sobald die Operationen abgeschlossen sind, wird die Datei geschlossen, um Ressourcen freizugeben.\n",
    "\n",
    "### Grundlegende Dateioperationen:\n",
    "- **Lesen einer Datei**: Mit `read()` oder `readline()` können wir den Inhalt einer Datei einlesen.\n",
    "- **Schreiben in eine Datei**: Mit `write()` können wir Text in eine Datei schreiben.\n",
    "- **Umgang mit Dateipfaden**: Absolute und relative Pfade können verwendet werden, um Dateien an verschiedenen Orten zu speichern oder zu öffnen.\n",
    "\n",
    "## Code-Beispiele:\n",
    "\n",
    "### 1. Lesen einer Datei\n",
    "In diesem Beispiel wird der Inhalt einer Textdatei vollständig eingelesen.\n",
    "\n",
    "```python\n",
    "# Öffnen einer Datei im Lesemodus ('r')\n",
    "with open('beispiel.txt', 'r') as datei:\n",
    "    inhalt = datei.read()  # Den gesamten Inhalt lesen\n",
    "    print(inhalt)\n"
   ]
  },
  {
   "cell_type": "markdown",
   "metadata": {},
   "source": [
    "### 2. Schreiben in eine Datei\n",
    "\n",
    "Um Text in eine Datei zu schreiben, öffnen wir die Datei im Schreibmodus 'w'."
   ]
  },
  {
   "cell_type": "code",
   "execution_count": 1,
   "metadata": {},
   "outputs": [],
   "source": [
    "# Öffnen einer Datei im Schreibmodus ('w')\n",
    "pass\n"
   ]
  },
  {
   "cell_type": "markdown",
   "metadata": {},
   "source": [
    "### 3. Zeilenweises Lesen einer Datei\n",
    "Manchmal ist es effizienter, die Datei Zeile für Zeile einzulesen."
   ]
  },
  {
   "cell_type": "code",
   "execution_count": null,
   "metadata": {},
   "outputs": [],
   "source": [
    "# Öffnen der Datei und zeilenweises Lesen\n",
    "pass\n"
   ]
  },
  {
   "cell_type": "markdown",
   "metadata": {},
   "source": [
    "### 4. Umgang mit Dateipfaden\n",
    "\n",
    "Wir können auch Dateien an anderen Stellen als dem aktuellen Ordner schreiben und lesen:"
   ]
  },
  {
   "cell_type": "code",
   "execution_count": 4,
   "metadata": {},
   "outputs": [],
   "source": [
    "# Schreiben im Ordner images\n",
    "pass"
   ]
  },
  {
   "cell_type": "code",
   "execution_count": null,
   "metadata": {},
   "outputs": [],
   "source": [
    "# lesen aus dem Ordner images\n"
   ]
  }
 ],
 "metadata": {
  "kernelspec": {
   "display_name": "Python 3",
   "language": "python",
   "name": "python3"
  },
  "language_info": {
   "codemirror_mode": {
    "name": "ipython",
    "version": 3
   },
   "file_extension": ".py",
   "mimetype": "text/x-python",
   "name": "python",
   "nbconvert_exporter": "python",
   "pygments_lexer": "ipython3",
   "version": "3.11.9"
  }
 },
 "nbformat": 4,
 "nbformat_minor": 2
}
