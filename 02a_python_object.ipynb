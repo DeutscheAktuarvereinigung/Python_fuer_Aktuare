{
 "cells": [
  {
   "cell_type": "markdown",
   "metadata": {},
   "source": [
    "# Python für Aktuare Teil 2\n",
    "\n",
    "## Agenda\n",
    "Innerhalb dieses Notebooks behandeln wir:\n",
    "- Objektorientierung\n",
    "    - Erstellen von Objekten\n",
    "    - Attribute und Funktionen von Objekten \n",
    "    - Vererbung von Objekten   \n",
    "\n",
    "Bisher haben wir prozedural programmiert, jetzt wollen wir Objektorientiert programmieren. Ein Objekt ist eine Instanz einer Klasse. Eine **Klasse** ist eine Vorlage oder ein Bauplan für Objekte. Sie definiert, welche Attribute (Daten) und Methoden (Funktionen) ein Objekt haben wird. Sobald wir eine Klasse definiert haben, können wir beliebig viele Objekte dieser Klasse erstellen.\n",
    "\n",
    "Man kann sich Klassen ein wenig wie  [Platons Ideen](https://de.wikipedia.org/wiki/Ideenlehre) vorstellen. In der Klasse beschreiben wir die Eigenschaften (*Attribute*), welche alle Objekte dieser Klasse haben und legen fest, was man mit den Objekten anstellen kann (über die *Methoden*).\n",
    "\n",
    "Ein einfaches Beispiel aus der realen Welt, wäre eine Klasse Auto:\n",
    "\n",
    "```plaintext\n",
    "+-------------------------+\n",
    "|        Auto             |\n",
    "+-------------------------+\n",
    "| - marke: str            |\n",
    "| - modell: str           |\n",
    "| - farbe: str            |         -> Attribute\n",
    "| - kilometerstand: int   |\n",
    "+-------------------------+\n",
    "| + fahren(km: int): void |\n",
    "| + hupe_betätigen(): void|         -> Methoden\n",
    "+-------------------------+\n",
    "```\n",
    "\n",
    "Aber betrachten wir lieber ein Beispiel aus der Versicherungsbranche:"
   ]
  },
  {
   "cell_type": "code",
   "execution_count": 2,
   "metadata": {},
   "outputs": [],
   "source": [
    "class InsuranceContract:\n",
    "    def __init__(self, contract_number, insured_sum, holder): # sog. Konstruktor mit Attributen\n",
    "        self.contract_number = contract_number\n",
    "        self.insured_sum = insured_sum\n",
    "        self.holder = holder\n",
    "\n",
    "    def calculate_premium(self):\n",
    "        # Hier verwenden wir eine einfache Regel zur Berechnung der Prämie\n",
    "        return self.insured_sum * 0.05"
   ]
  },
  {
   "cell_type": "markdown",
   "metadata": {},
   "source": [
    "Nun können wir Versicherungsverträge anlegen:"
   ]
  },
  {
   "cell_type": "code",
   "execution_count": null,
   "metadata": {},
   "outputs": [],
   "source": [
    "# Erstellen eines Versicherungsvertrags\n",
    "vertrag1 = InsuranceContract('12345', 100000, 'Max Mustermann')\n",
    "vertrag2 = InsuranceContract('12346', 200000, 'Petra Musterfrau')\n",
    "\n",
    "# Zugriff auf die Attribute des Objekts\n",
    "print(f\"Vertragsnummer: {vertrag1.contract_number}\")\n",
    "print(f\"Versicherte Summe: {vertrag1.insured_sum}\")\n",
    "print(f\"Versicherungsnehmer: {vertrag1.holder}\")\n",
    "\n",
    "# Berechnung der Prämie\n",
    "praemie1 = vertrag1.calculate_premium()\n",
    "print(f\"Die berechnete Prämie beträgt: {praemie1:.2f} Euro\")\n",
    "\n",
    "praemie2 = vertrag2.calculate_premium()\n",
    "print(f\"Die berechnete Prämie beträgt: {praemie2:.2f} Euro\")"
   ]
  },
  {
   "cell_type": "markdown",
   "metadata": {},
   "source": [
    "Durch die objektorientierte Programmierung können wir unseren Code besser organisieren und wiederverwenden. Besonders in der Versicherungsbranche, wo viele ähnliche Verträge, Policen oder Schadensfälle verwaltet werden müssen, können wir von der OOP profitieren. Jeder Vertrag, Schadensfall oder Kunde kann als Objekt abgebildet werden, was die Verwaltung und Berechnung erleichtert.\n",
    "\n",
    "### Nebenbemerkung\n",
    "In Python ist alles (ALLES!) ein Objekt. So sind auch die Basisklassen, die wie bisher kennengelernt haben Objekte:"
   ]
  },
  {
   "cell_type": "code",
   "execution_count": null,
   "metadata": {},
   "outputs": [],
   "source": [
    "def foo():\n",
    "    return \"bar\"\n",
    "\n",
    "\n",
    "print(type(42))           \n",
    "print(type(\"Hallo\"))      \n",
    "print(type(foo))"
   ]
  },
  {
   "cell_type": "markdown",
   "metadata": {},
   "source": [
    "Da alles ein Objekt ist, kann man in Python mit allen Elementen in ähnlicher Weise arbeiten. Ob man mit Zahlen, Texten oder komplexen Strukturen arbeitet, jedes Objekt hat bestimmte Eigenschaften (Attribute) und Funktionen (Methoden), die man verwenden kann. Wir kommen dazu gleich, aber vorher:"
   ]
  },
  {
   "cell_type": "markdown",
   "metadata": {},
   "source": [
    "## Aufgabe: Klasse `Versicherungsnehmer` erstellen\n",
    "\n",
    "Erstelle eine Klasse `Versicherungsnehmer`, die dazu dient, grundlegende Informationen über eine versicherte Person zu speichern und anzuzeigen.\n",
    "\n",
    "### Anforderungen:\n",
    "\n",
    "1. Die Klasse `Versicherungsnehmer` soll folgende Attribute haben:\n",
    "   - `name`: Der Name des Versicherungsnehmers (z. B. \"Anna Müller\")\n",
    "   - `geburtsdatum`: Das Geburtsdatum des Versicherungsnehmers (z. B. \"01.01.1980\")\n",
    "   - `adresse`: Die Adresse des Versicherungsnehmers (z. B. \"Musterstraße 1, 12345 Musterstadt\")\n",
    "   - `versicherungsnummer`: Eine eindeutige Versicherungsnummer (z. B. \"VN123456\")\n",
    "\n",
    "2. Die Klasse soll einen **Konstruktor** (`__init__`) haben, der diese Attribute beim Erstellen eines Objekts zuweist.\n",
    "\n",
    "3. Die Klasse soll eine Methode `vertragsdetails_anzeigen()` haben, die die Informationen über den Versicherungsnehmer in einem übersichtlichen Format ausgibt.\n",
    "\n",
    "### Beispiel:\n",
    "\n",
    "Wenn man ein Objekt der Klasse `Versicherungsnehmer` mit den Daten eines Versicherungsnehmers erstellst, sollte der Aufruf der Methode `vertragsdetails_anzeigen()` folgendes Ergebnis liefern:\n",
    "\n",
    "```plaintext\n",
    "Versicherungsnehmer: Anna Müller\n",
    "Geburtsdatum: 01.01.1980\n",
    "Adresse: Musterstraße 1, 12345 Musterstadt\n",
    "Versicherungsnummer: VN123456"
   ]
  },
  {
   "cell_type": "code",
   "execution_count": 3,
   "metadata": {},
   "outputs": [],
   "source": [
    "class Versicherungsnehmer:\n",
    "    def __init__(self, name, geburtsdatum, adresse, versicherungsnummer):\n",
    "         self.name = name\n",
    "         self.geburtsdatum = geburtsdatum\n",
    "         self.adresse = adresse\n",
    "         self.versicherungsnummer = versicherungsnummer\n",
    "\n",
    "    def vertragsdetails_anzeigen(self):\n",
    "        print(f\"Versicherungsnehmer: {self.name}\")\n",
    "        print(f\"Geburtsdatum: {self.geburtsdatum}\")\n",
    "        print(f\"Adresse: {self.adresse}\")\n",
    "        print(f\"Versicherungsnummer: {self.versicherungsnummer}\")\n"
   ]
  },
  {
   "cell_type": "markdown",
   "metadata": {},
   "source": [
    "Hiermit können Sie Ihren Code testen:"
   ]
  },
  {
   "cell_type": "code",
   "execution_count": null,
   "metadata": {},
   "outputs": [],
   "source": [
    "# Erstelle ein Versicherungsnehmer-Objekt\n",
    "kunde1 = Versicherungsnehmer(\"Max Mustermann\", \"15.05.1975\", \"Beispielweg 5, 54321 Beispielstadt\", \"VN987654\")\n",
    "\n",
    "# Rufe die Methode auf, um die Vertragsdetails anzuzeigen\n",
    "kunde1.vertragsdetails_anzeigen()\n",
    "\n",
    "print(\"\\n---\\n\")  # Trennlinie für bessere Lesbarkeit\n",
    "\n",
    "# Teste ein weiteres Objekt\n",
    "kunde2 = Versicherungsnehmer(\"Julia Meier\", \"22.08.1990\", \"Musterstraße 12, 65432 Musterstadt\", \"VN123321\")\n",
    "\n",
    "# Vertragsdetails für das zweite Objekt anzeigen\n",
    "\n",
    "kunde2.vertragsdetails_anzeigen()"
   ]
  },
  {
   "cell_type": "markdown",
   "metadata": {},
   "source": [
    "## Einführung in Vererbung\n",
    "\n",
    "Mit der objektorientierten Programmierung können wir durch das Arbeiten mit Klassen und Objekten bereits große Teile unseres Codes modularisieren und wiederverwendbar gestalten. Indem wir Eigenschaften und Verhalten in einer Klasse kapseln, lassen sich redundante Codefragmente vermeiden und die Wartbarkeit verbessern.\n",
    "\n",
    "Doch die objektorientierte Programmierung bietet noch mehr: **Vererbung** ist ein zentrales Konzept, das es uns ermöglicht, Klassen miteinander zu verknüpfen und Beziehungen zwischen ihnen herzustellen. Mit der Vererbung können wir eine allgemeine Klasse definieren, von der spezialisierte Klassen abgeleitet werden. Dies reduziert nicht nur den Aufwand, sondern schafft auch eine übersichtlichere Struktur.\n",
    "\n",
    "### Vorteile der Vererbung:\n",
    "\n",
    "- **Wiederverwendung von Code:** Gemeinsame Funktionalitäten müssen nur einmal in einer Basisklasse definiert werden. Die abgeleiteten Klassen erben diese Funktionalität automatisch.\n",
    "- **Erweiterbarkeit:** Neue spezialisierte Klassen können leicht erstellt werden, indem sie von einer bestehenden Klasse erben und bei Bedarf zusätzliche Funktionen oder Attribute hinzufügen.\n",
    "- **Wartbarkeit:** Durch eine klar strukturierte Vererbungshierarchie wird der Code übersichtlicher und einfacher zu warten.\n",
    "\n",
    "### Beispiel: Vererbung bei Versicherungsnehmern\n",
    "\n",
    "Stellen wir uns vor, wir möchten in unserem System neben Versicherungsnehmern auch andere Personenarten, wie Makler oder Vertreter, verwalten. Alle haben gemeinsame Attribute (z. B. Name, Geburtsdatum, Adresse), aber auch spezifische Unterschiede. Anstatt diese Eigenschaften und Methoden in jeder Klasse neu zu definieren, können wir eine allgemeine Klasse `Person` erstellen, von der alle spezialisierteren Klassen erben.\n",
    "\n",
    "Lassen Sie uns das einmal ausprobieren:\n"
   ]
  },
  {
   "cell_type": "code",
   "execution_count": 6,
   "metadata": {},
   "outputs": [],
   "source": [
    "class Person():\n",
    "    def __init__(self, pName, pGeburtsdatum, pAdresse) -> None:\n",
    "        self.name = pName\n",
    "        self.geburtsdatum = pGeburtsdatum\n",
    "        self.adresse = pAdresse\n"
   ]
  },
  {
   "cell_type": "markdown",
   "metadata": {},
   "source": [
    "Jetzt möchten wir, dass die Klasse `Versicherungsnehmer` von der Klasse `Person` erbt:"
   ]
  },
  {
   "cell_type": "code",
   "execution_count": 7,
   "metadata": {},
   "outputs": [],
   "source": [
    "class Versicherungsnehmer(Person): # das wars schon, einfach die Klasse in Klammern packen, zack schon geerbt.\n",
    "    def __init__(self, pName, pGeburtsdatum, pAdresse, pVersicherungsnummer) -> None:\n",
    "        super().__init__(pName, pGeburtsdatum, pAdresse)\n",
    "        self.versicherungsnummer = pVersicherungsnummer\n",
    "\n",
    "    def anzeigen(self):\n",
    "        print(f\"Versicherungsnehmer: {self.name}\")\n",
    "        print(f\"Geburtsdatum: {self.geburtsdatum}\")\n",
    "        print(f\"Adresse: {self.adresse}\")\n",
    "        print(f\"Versicherungsnummer: {self.versicherungsnummer}\")"
   ]
  },
  {
   "cell_type": "code",
   "execution_count": null,
   "metadata": {},
   "outputs": [],
   "source": [
    "# probieren wir es mal aus: \n",
    "kunde = Versicherungsnehmer(\"Max Mustermann\", \"01.01.1980\", \"Musterstraße 1\", \"123456789\")\n",
    "kunde.anzeigen()"
   ]
  },
  {
   "cell_type": "markdown",
   "metadata": {},
   "source": [
    "## Spezielle Klassenmethoden\n",
    "\n",
    "Wir haben schon gesehen, dass es in Python spezielle Methoden auf Klassen gibt. Im Prinzip sollte jede Klasse folgende Standard-Methoden implementiert haben:\n",
    "\n",
    "```\n",
    "__init__() -> Konstruktor\n",
    "__repr__() -> eine (technische) String-Representation des Objektes\n",
    "__str__() -> eine (menschenfreundliche) String-Representation des Objektes\n",
    "__eq__() -> dann können zwei Objekte der Klasse mit \"==\" auf Gleichheit überprüft werden\n",
    "__hash__() -> liefert für jede Instanz einen eindeutigen Hash-Wert zurück\n",
    "```\n",
    "\n",
    "Weitere Standardmethoden (die für Personen keinen Sinn ergeben) sind:\n",
    "```\n",
    "__add__() -> zwei Objekte mit \"+\" addieren/konkatinieren\n",
    "__subtract__() -> zwei Objekte mit \"-\" subtrahieren\n",
    "__getitem__(idx) -> Index-Zugriff liefert den Wert an idx zurück\n",
    "__setitem__(idx, value) -> setzt das Element am Index idx auf den Wert value\n",
    "__len__() -> liefert die Länge des Objektes zurück\n",
    "__del__() -> löscht die Instanz des Objektes\n",
    "__iter__() -> zum Iterieren über das Objekt\n",
    "```\n",
    "Wir implementieren die ersten:"
   ]
  },
  {
   "cell_type": "code",
   "execution_count": null,
   "metadata": {},
   "outputs": [],
   "source": [
    "class Person:\n",
    "    def __init__(self, name, geburtsdatum, adresse):\n",
    "        self.name = name\n",
    "        self.geburtsdatum = geburtsdatum\n",
    "        self.adresse = adresse\n",
    "\n",
    "    def details_anzeigen(self):\n",
    "        print(f\"Name: {self.name}\")\n",
    "        print(f\"Geburtsdatum: {self.geburtsdatum}\")\n",
    "        print(f\"Adresse: {self.adresse}\")\n",
    "\n",
    "    def __str__(self) -> str:\n",
    "        # Gibt eine benutzerfreundliche Beschreibung der Person zurück\n",
    "        return f\"Person(Name: {self.name}, Geburtsdatum: {self.geburtsdatum}, Adresse: {self.adresse})\"\n",
    "\n",
    "    def __repr__(self) -> str:\n",
    "        # Gibt eine detaillierte, \"technische\" Beschreibung zurück, die für Entwickler nützlich ist\n",
    "        return f\"Person(name={self.name!r}, geburtsdatum={self.geburtsdatum!r}, adresse={self.adresse!r})\"\n",
    "\n",
    "    def __eq__(self, other: object) -> bool:\n",
    "        # Überprüft, ob zwei Personen-Objekte gleich sind (gleicher Name, Geburtsdatum und Adresse)\n",
    "        if isinstance(other, Person):\n",
    "            return (self.name == other.name and \n",
    "                    self.geburtsdatum == other.geburtsdatum and \n",
    "                    self.adresse == other.adresse)\n",
    "        return False\n",
    "\n",
    "    def __hash__(self) -> int:\n",
    "        # Erzeugt einen Hash-Wert basierend auf Name, Geburtsdatum und Adresse\n",
    "        return hash((self.name, self.geburtsdatum, self.adresse))\n"
   ]
  },
  {
   "cell_type": "markdown",
   "metadata": {},
   "source": [
    "## Aufgabe (Formen)\n",
    "\n",
    "Erstellen Sie eine Klasse `shape`, die als Attribut den Namen der Form speichert und eine Methode `area` besitzt, welche den String \"not yet implemented\" zurückliefert.\n",
    "Implementieren Sie auch die Funktionen `__repr__()` und `__str__()`."
   ]
  },
  {
   "cell_type": "code",
   "execution_count": 10,
   "metadata": {},
   "outputs": [],
   "source": [
    "class Shape:\n",
    "    def __init__(self, name):\n",
    "        self.name = name\n",
    "\n",
    "    def area(self):\n",
    "        # Gibt an, dass die Flächenberechnung noch nicht implementiert ist\n",
    "        return \"not yet implemented\"\n",
    "\n",
    "    def __repr__(self):\n",
    "        # Gibt eine detaillierte, technische Beschreibung zurück\n",
    "        return f\"Shape(name={self.name!r})\"\n",
    "\n",
    "    def __str__(self):\n",
    "        # Gibt eine benutzerfreundliche Beschreibung der Form zurück\n",
    "        return f\"Shape: {self.name}\"\n"
   ]
  },
  {
   "cell_type": "markdown",
   "metadata": {},
   "source": [
    "**Circle**\n",
    "\n",
    "Erstellen Sie Unterklasse `Circle`, die von `Shape` erbt. Implementieren Sie den Konstruktor, welcher den Namen der Form (Shape) auf \"Circle\" setzt und den Radius speichert. Überschreiben Sie die Methode `area`, um die Fläche des Kreises zu berechnen. Implementieren Sie auch eine Methode `__eq__()` um zwei Kreise miteinander vergleichen zu können. \n",
    "\n",
    "Hinweis: `math.pi` liefert den Wert von $\\pi$."
   ]
  },
  {
   "cell_type": "code",
   "execution_count": 11,
   "metadata": {},
   "outputs": [],
   "source": [
    "import math\n",
    "\n",
    "class Circle(Shape):\n",
    "    def __init__(self, radius):\n",
    "        super().__init__(\"Circle\")  # Setzt den Namen der Form auf \"Circle\"\n",
    "        self.radius = radius\n",
    "\n",
    "    def area(self):\n",
    "        # Berechnet die Fläche des Kreises\n",
    "        return math.pi * (self.radius ** 2)\n",
    "\n",
    "    def __eq__(self, otherCircle):\n",
    "        # Vergleicht, ob zwei Kreise gleich sind (gleicher Radius)\n",
    "        if isinstance(otherCircle, Circle):\n",
    "            return self.radius == otherCircle.radius\n",
    "        return NotImplemented\n",
    "\n",
    "    def __repr__(self):\n",
    "        # Gibt eine detaillierte, technische Beschreibung zurück\n",
    "        return f\"Circle(radius={self.radius!r})\"\n",
    "\n",
    "    def __str__(self):\n",
    "        # Gibt eine benutzerfreundliche Beschreibung des Kreises zurück\n",
    "        return f\"Circle with radius: {self.radius}\"\n"
   ]
  },
  {
   "cell_type": "code",
   "execution_count": null,
   "metadata": {},
   "outputs": [],
   "source": [
    "# Beispiel:\n",
    "circle = Circle(5)\n",
    "print(circle.name)  # Ausgabe: Circle\n",
    "print(circle.area())  # Ausgabe: 78.53981633974483\n",
    "circle2 = Circle(6)\n",
    "circle3 = Circle(5)\n",
    "print(circle == circle2) # False\n",
    "print(circle == circle3) # True"
   ]
  },
  {
   "cell_type": "markdown",
   "metadata": {},
   "source": [
    "**Rectangle**\n",
    "\n",
    "Erstellen Sie eine Unterklasse Rectangle, die von Shape erbt. Implementieren Sie den Konstruktor, der den Namen setzt und die Breite und Höhe speichert. Überschreiben Sie die Methode `area`, um die Fläche des Rechtecks zu berechnen"
   ]
  },
  {
   "cell_type": "code",
   "execution_count": 13,
   "metadata": {},
   "outputs": [],
   "source": [
    "class Rectangle(Shape):\n",
    "    def __init__(self, width, height):\n",
    "        super().__init__(\"Rectangle\")  # Setzt den Namen der Form auf \"Rectangle\"\n",
    "        self.width = width\n",
    "        self.height = height\n",
    "\n",
    "    def area(self):\n",
    "        # Berechnet die Fläche des Rechtecks\n",
    "        return self.width * self.height\n",
    "\n",
    "    def __repr__(self):\n",
    "        # Gibt eine detaillierte, technische Beschreibung zurück\n",
    "        return f\"Rectangle(width={self.width!r}, height={self.height!r})\"\n",
    "\n",
    "    def __str__(self):\n",
    "        # Gibt eine benutzerfreundliche Beschreibung des Rechtecks zurück\n",
    "        return f\"Rectangle with width: {self.width} and height: {self.height}\"\n",
    "\n",
    "    def __eq__(self, otherRectangle):\n",
    "        # Vergleicht, ob zwei Rechtecke gleich sind (gleiche Breite und Höhe)\n",
    "        if isinstance(otherRectangle, Rectangle):\n",
    "            return self.width == otherRectangle.width and self.height == otherRectangle.height\n",
    "        return NotImplemented\n"
   ]
  },
  {
   "cell_type": "code",
   "execution_count": null,
   "metadata": {},
   "outputs": [],
   "source": [
    "# Beispiel:\n",
    "rectangle = Rectangle(3, 5)\n",
    "print(rectangle.name)  # Ausgabe: Rectangle\n",
    "print(rectangle.area())  # Ausgabe: 15\n",
    "print(repr(rectangle))  # Ausgabe: Rectangle(width=3, height=5)\n",
    "print(str(rectangle))   # Ausgabe: Rectangle with width: 3 and height: 5"
   ]
  },
  {
   "cell_type": "markdown",
   "metadata": {},
   "source": [
    "**Square**\n",
    "\n",
    "Erstellen Sie eine Unterklasse `Square`, die von `Rectangle` erbt. Implementieren Sie den Konstruktor, um die Seitenlänge und den Namen zu speichern, und überschreiben Sie die Methode `area`, um die Fläche des Quadrats zu berechnen. Erstellen Sie auch eine Methode `__eq__()` um zwei Quadrate auf Gleichheit zu testen."
   ]
  },
  {
   "cell_type": "code",
   "execution_count": 16,
   "metadata": {},
   "outputs": [],
   "source": [
    "class Square(Rectangle):\n",
    "    def __init__(self, side_length):\n",
    "        super().__init__(side_length, side_length)  # Setzt die Breite und Höhe gleich der Seitenlänge\n",
    "        self.name = \"Square\"  # Setzt den Namen der Form auf \"Square\"\n",
    "\n",
    "    def area(self):\n",
    "        # Berechnet die Fläche des Quadrats\n",
    "        return self.width * self.width  # Oder self.height * self.height\n",
    "\n",
    "    def __eq__(self, otherSquare):\n",
    "        # Vergleicht, ob zwei Quadrate gleich sind (gleiche Seitenlänge)\n",
    "        if isinstance(otherSquare, Square):\n",
    "            return self.width == otherSquare.width  # Oder self.height\n",
    "        return NotImplemented\n",
    "\n",
    "    def __str__(self):\n",
    "        # Gibt eine benutzerfreundliche Beschreibung des Quadrats zurück\n",
    "        return f\"Square with side length: {self.width}\"  # Selbst width und height sind gleich\n"
   ]
  },
  {
   "cell_type": "code",
   "execution_count": null,
   "metadata": {},
   "outputs": [],
   "source": [
    "# Beispiel:\n",
    "square = Square(4)\n",
    "print(square.name)  # Ausgabe: Square\n",
    "print(square.area())  # Ausgabe: 16\n",
    "\n",
    "print(square == Square(3)) # False\n",
    "print(square == Square(4)) # True"
   ]
  }
 ],
 "metadata": {
  "kernelspec": {
   "display_name": "Python 3",
   "language": "python",
   "name": "python3"
  },
  "language_info": {
   "codemirror_mode": {
    "name": "ipython",
    "version": 3
   },
   "file_extension": ".py",
   "mimetype": "text/x-python",
   "name": "python",
   "nbconvert_exporter": "python",
   "pygments_lexer": "ipython3",
   "version": "3.11.9"
  }
 },
 "nbformat": 4,
 "nbformat_minor": 2
}
